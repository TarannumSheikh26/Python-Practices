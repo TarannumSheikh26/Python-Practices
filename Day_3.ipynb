{
 "cells": [
  {
   "cell_type": "code",
   "execution_count": 2,
   "metadata": {},
   "outputs": [
    {
     "name": "stdout",
     "output_type": "stream",
     "text": [
      "2\n"
     ]
    }
   ],
   "source": [
    "import math\n",
    "pos = [0,0]\n",
    "while True:\n",
    "    s = input()\n",
    "    if not s:\n",
    "        break\n",
    "    movement = s.split(\" \")\n",
    "    direction = movement[0]\n",
    "    steps = int(movement[1])\n",
    "    if direction == \"UP\":\n",
    "        pos[0] += steps\n",
    "    elif direction == \"DOWN\":\n",
    "        pos[0] -= steps\n",
    "    elif direction == \"LEFT\":\n",
    "        pos[1] -= steps\n",
    "    elif direction == \"RIGHT\":\n",
    "        pos[1] += steps\n",
    "    else:\n",
    "        pass\n",
    "\n",
    "print(int(round(math.sqrt(pos[1] ** 2 + pos[0] ** 2))))"
   ]
  },
  {
   "cell_type": "code",
   "execution_count": 12,
   "metadata": {},
   "outputs": [
    {
     "name": "stdout",
     "output_type": "stream",
     "text": [
      "2:2\n",
      "3.:1\n",
      "3?:1\n",
      "New:1\n",
      "Python:5\n",
      "Read:1\n",
      "and:1\n",
      "between:1\n",
      "choosing:1\n",
      "or:2\n",
      "to:1\n"
     ]
    }
   ],
   "source": [
    "freq = {}\n",
    "line = input()\n",
    "for word in line.split():\n",
    "    freq[word] = freq.get(word,0)+1\n",
    "\n",
    "words = sorted(freq.keys())\n",
    "\n",
    "for w in words:\n",
    "    print(\"%s:%d\" % (w,freq[w]))"
   ]
  },
  {
   "cell_type": "code",
   "execution_count": 14,
   "metadata": {},
   "outputs": [
    {
     "name": "stdout",
     "output_type": "stream",
     "text": [
      "4\n"
     ]
    }
   ],
   "source": [
    "def square(num):\n",
    "        return num ** 2\n",
    "\n",
    "print(square(2))"
   ]
  },
  {
   "cell_type": "code",
   "execution_count": 18,
   "metadata": {},
   "outputs": [
    {
     "name": "stdout",
     "output_type": "stream",
     "text": [
      "Return the absolute value of the argument.\n",
      "int([x]) -> integer\n",
      "int(x, base=10) -> integer\n",
      "\n",
      "Convert a number or string to an integer, or return 0 if no arguments\n",
      "are given.  If x is a number, return x.__int__().  For floating point\n",
      "numbers, this truncates towards zero.\n",
      "\n",
      "If x is not a number or if base is given, then x must be a string,\n",
      "bytes, or bytearray instance representing an integer literal in the\n",
      "given base.  The literal can be preceded by '+' or '-' and be surrounded\n",
      "by whitespace.  The base defaults to 10.  Valid bases are 0 and 2-36.\n",
      "Base 0 means to interpret the base from the string as an integer literal.\n",
      ">>> int('0b100', base=0)\n",
      "4\n",
      "Forward raw_input to frontends\n",
      "\n",
      "        Raises\n",
      "        ------\n",
      "        StdinNotImplementedError if active frontend doesn't support stdin.\n",
      "        \n",
      "4\n",
      "Return the square value of the input number.\n",
      "    \n",
      "    The input number must be integer.\n",
      "    \n"
     ]
    }
   ],
   "source": [
    "print (abs.__doc__)\n",
    "print (int.__doc__)\n",
    "print (input.__doc__)\n",
    "\n",
    "def square(num):\n",
    "    '''Return the square value of the input number.\n",
    "    \n",
    "    The input number must be integer.\n",
    "    '''\n",
    "    return num ** 2\n",
    "\n",
    "print(square(2))\n",
    "print(square.__doc__)"
   ]
  },
  {
   "cell_type": "code",
   "execution_count": 24,
   "metadata": {},
   "outputs": [
    {
     "name": "stdout",
     "output_type": "stream",
     "text": [
      "Person name is Jeffrey\n",
      "Person name is Nico\n"
     ]
    }
   ],
   "source": [
    "class Person:\n",
    "    # Define the class parameter \"name\"\n",
    "    name = \"Person\"\n",
    "    \n",
    "    def __init__(self, name = None):\n",
    "        # self.name is the instance parameter\n",
    "        self.name = name\n",
    "\n",
    "jeffrey = Person(\"Jeffrey\")\n",
    "print(\"%s name is %s\" % (Person.name, jeffrey.name))\n",
    "\n",
    "nico = Person()\n",
    "nico.name = \"Nico\"\n",
    "print(\"%s name is %s\" % (Person.name, nico.name))"
   ]
  },
  {
   "cell_type": "code",
   "execution_count": 25,
   "metadata": {},
   "outputs": [
    {
     "name": "stdout",
     "output_type": "stream",
     "text": [
      "9\n"
     ]
    }
   ],
   "source": [
    "def sumFunction(num1,num2):\n",
    "    return num1 + num2\n",
    "\n",
    "print(sumFunction(4,5))"
   ]
  },
  {
   "cell_type": "code",
   "execution_count": 26,
   "metadata": {},
   "outputs": [
    {
     "name": "stdout",
     "output_type": "stream",
     "text": [
      "3\n"
     ]
    }
   ],
   "source": [
    "def printValue(n):\n",
    "    print(str(n))\n",
    "\n",
    "printValue(3)"
   ]
  },
  {
   "cell_type": "code",
   "execution_count": 28,
   "metadata": {},
   "outputs": [
    {
     "name": "stdout",
     "output_type": "stream",
     "text": [
      "44\n"
     ]
    }
   ],
   "source": [
    "def printSum(n1,n2):\n",
    "    print(int(n1) + int(n2))\n",
    "\n",
    "printSum(\"21\",\"23\")"
   ]
  },
  {
   "cell_type": "code",
   "execution_count": 29,
   "metadata": {},
   "outputs": [
    {
     "name": "stdout",
     "output_type": "stream",
     "text": [
      "2123\n"
     ]
    }
   ],
   "source": [
    "def printSum(n1,n2):\n",
    "    print(n1+n2)\n",
    "\n",
    "printSum(\"21\",\"23\")"
   ]
  },
  {
   "cell_type": "code",
   "execution_count": 30,
   "metadata": {},
   "outputs": [
    {
     "name": "stdout",
     "output_type": "stream",
     "text": [
      "secondstring\n"
     ]
    }
   ],
   "source": [
    "def printLine(s1,s2):\n",
    "    if len(s1) > len(s2):\n",
    "        return s1\n",
    "    elif len(s1) < len(s2):\n",
    "        return s2\n",
    "    else:\n",
    "        return(s1)\n",
    "        return(s2)\n",
    "\n",
    "print(printLine(\"string1\",\"secondstring\"))\n"
   ]
  }
 ],
 "metadata": {
  "kernelspec": {
   "display_name": "Python 3",
   "language": "python",
   "name": "python3"
  },
  "language_info": {
   "codemirror_mode": {
    "name": "ipython",
    "version": 3
   },
   "file_extension": ".py",
   "mimetype": "text/x-python",
   "name": "python",
   "nbconvert_exporter": "python",
   "pygments_lexer": "ipython3",
   "version": "3.10.11"
  }
 },
 "nbformat": 4,
 "nbformat_minor": 2
}
