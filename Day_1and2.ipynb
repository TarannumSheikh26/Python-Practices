{
 "cells": [
  {
   "cell_type": "code",
   "execution_count": null,
   "metadata": {},
   "outputs": [
    {
     "name": "stdout",
     "output_type": "stream",
     "text": [
      "hello world\n"
     ]
    }
   ],
   "source": [
    "print(\"hello world\")"
   ]
  },
  {
   "cell_type": "markdown",
   "metadata": {},
   "source": [
    "Write a program which will find all such numbers which are divisible by 7 but are not a multiple of 5,\n",
    "between 2000 and 3200 (both included).\n",
    "The numbers obtained should be printed in a comma-separated sequence on a single line."
   ]
  },
  {
   "cell_type": "code",
   "execution_count": null,
   "metadata": {},
   "outputs": [
    {
     "name": "stdout",
     "output_type": "stream",
     "text": [
      "2002,2009,2016,2023,2037,2044,2051,2058,2072,2079,2086,2093,2107,2114,2121,2128,2142,2149,2156,2163,2177,2184,2191,2198,2212,2219,2226,2233,2247,2254,2261,2268,2282,2289,2296,2303,2317,2324,2331,2338,2352,2359,2366,2373,2387,2394,2401,2408,2422,2429,2436,2443,2457,2464,2471,2478,2492,2499,2506,2513,2527,2534,2541,2548,2562,2569,2576,2583,2597,2604,2611,2618,2632,2639,2646,2653,2667,2674,2681,2688,2702,2709,2716,2723,2737,2744,2751,2758,2772,2779,2786,2793,2807,2814,2821,2828,2842,2849,2856,2863,2877,2884,2891,2898,2912,2919,2926,2933,2947,2954,2961,2968,2982,2989,2996,3003,3017,3024,3031,3038,3052,3059,3066,3073,3087,3094,3101,3108,3122,3129,3136,3143,3157,3164,3171,3178,3192,3199\n"
     ]
    }
   ],
   "source": [
    "l = []\n",
    "for i in range(2000, 3201):\n",
    "    if (i%7 == 0) and (i%5 != 0):\n",
    "        l.append(str(i))\n",
    "\n",
    "print(','.join(l))"
   ]
  },
  {
   "cell_type": "markdown",
   "metadata": {},
   "source": [
    "Write a program which can compute the factorial of a given numbers.\n",
    "The results should be printed in a comma-separated sequence on a single line.\n",
    "Suppose the following input is supplied to the program:\n",
    "8\n",
    "Then, the output should be:\n",
    "40320"
   ]
  },
  {
   "cell_type": "code",
   "execution_count": 21,
   "metadata": {},
   "outputs": [
    {
     "name": "stdout",
     "output_type": "stream",
     "text": [
      "Factorial of  8 is  40320\n"
     ]
    }
   ],
   "source": [
    "def fact(x):\n",
    "    if x == 1:\n",
    "        return 1\n",
    "    else:\n",
    "        return (x * fact(x-1))\n",
    "\n",
    "num = int(input())\n",
    "result = fact(num)\n",
    "print(\"Factorial of \", num , \"is \",result)"
   ]
  },
  {
   "cell_type": "code",
   "execution_count": 23,
   "metadata": {},
   "outputs": [
    {
     "name": "stdout",
     "output_type": "stream",
     "text": [
      "{1: 1, 2: 4, 3: 9, 4: 16, 5: 25, 6: 36, 7: 49, 8: 64}\n"
     ]
    }
   ],
   "source": [
    "n = int(input())\n",
    "d = dict()\n",
    "for i in range(1, n+1):\n",
    "    d[i] = i*i\n",
    "\n",
    "print(d)"
   ]
  },
  {
   "cell_type": "code",
   "execution_count": 27,
   "metadata": {},
   "outputs": [
    {
     "name": "stdout",
     "output_type": "stream",
     "text": [
      "list is : ['34', '67', '55', '33', '12', '98']\n",
      "tuple is :  ('34', '67', '55', '33', '12', '98')\n"
     ]
    }
   ],
   "source": [
    "values = input()\n",
    "l = values.split(\",\")\n",
    "t = tuple(l)\n",
    "print(\"list is :\",l)\n",
    "print(\"tuple is : \",t)"
   ]
  },
  {
   "cell_type": "code",
   "execution_count": 30,
   "metadata": {},
   "outputs": [
    {
     "name": "stdout",
     "output_type": "stream",
     "text": [
      "PYTHON\n"
     ]
    }
   ],
   "source": [
    "class StringOutOfInput(object):\n",
    "    def __init__(self):\n",
    "        self.s = \"\"\n",
    "\n",
    "    def getString(self):\n",
    "        self.s = input()\n",
    "\n",
    "    def printString(self):\n",
    "        print(self.s.upper())\n",
    "\n",
    "    strObj = StringOutOfInput()\n",
    "    strObj.getString()\n",
    "    strObj.printString()"
   ]
  },
  {
   "cell_type": "code",
   "execution_count": 32,
   "metadata": {},
   "outputs": [
    {
     "name": "stdout",
     "output_type": "stream",
     "text": [
      "18,22,24\n"
     ]
    }
   ],
   "source": [
    "import math\n",
    "c = 50\n",
    "h = 30\n",
    "value = []\n",
    "items=[x for x in input().split(',')]\n",
    "for d in items:\n",
    "    value.append(str(int(round(math.sqrt(2*c*float(d)/h)))))\n",
    "\n",
    "print(','.join(value))"
   ]
  },
  {
   "cell_type": "code",
   "execution_count": 33,
   "metadata": {},
   "outputs": [
    {
     "name": "stdout",
     "output_type": "stream",
     "text": [
      "[[0, 0, 0, 0, 0], [0, 1, 2, 3, 4], [0, 2, 4, 6, 8]]\n"
     ]
    }
   ],
   "source": [
    "input_str = input()\n",
    "dimensions=[int(x) for x in input_str.split(',')]\n",
    "rowNum=dimensions[0]\n",
    "colNum=dimensions[1]\n",
    "multilist = [[0 for col in range(colNum)] for row in range(rowNum)]\n",
    "\n",
    "for row in range(rowNum):\n",
    "    for col in range(colNum):\n",
    "        multilist[row][col]= row*col\n",
    "\n",
    "print(multilist)"
   ]
  },
  {
   "cell_type": "code",
   "execution_count": 34,
   "metadata": {},
   "outputs": [
    {
     "name": "stdout",
     "output_type": "stream",
     "text": [
      "cat,elephant,monkey,yak,zebra\n"
     ]
    }
   ],
   "source": [
    "items=[x for x in input().split(',')]\n",
    "items.sort()\n",
    "print(','.join(items))"
   ]
  },
  {
   "cell_type": "code",
   "execution_count": 35,
   "metadata": {},
   "outputs": [
    {
     "name": "stdout",
     "output_type": "stream",
     "text": [
      "HELLO WORLD PRACTICE MAKES PERFECT\n",
      "HELLO WORLD PRACTICE MAKES PERFECT\n"
     ]
    }
   ],
   "source": [
    "lines = []\n",
    "while True:\n",
    "    s = input()\n",
    "    if s:\n",
    "        lines.append(s.upper())\n",
    "    else:\n",
    "        break;\n",
    "\n",
    "for sentence in lines:\n",
    "    print(sentence)"
   ]
  },
  {
   "cell_type": "code",
   "execution_count": 36,
   "metadata": {},
   "outputs": [
    {
     "name": "stdout",
     "output_type": "stream",
     "text": [
      "again and hello makes perfect practice world\n"
     ]
    }
   ],
   "source": [
    "s = input()\n",
    "words = [word for word in s.split(\" \")]\n",
    "print(\" \".join(sorted(list(set(words)))))"
   ]
  },
  {
   "cell_type": "code",
   "execution_count": 37,
   "metadata": {},
   "outputs": [
    {
     "name": "stdout",
     "output_type": "stream",
     "text": [
      "1010\n"
     ]
    }
   ],
   "source": [
    "value = []\n",
    "items=[x for x in input().split(',')]\n",
    "for p in items:\n",
    "    intp = int(p, 2)\n",
    "    if not intp%5:\n",
    "        value.append(p)\n",
    "\n",
    "print(','.join(value))"
   ]
  },
  {
   "cell_type": "code",
   "execution_count": 38,
   "metadata": {},
   "outputs": [
    {
     "name": "stdout",
     "output_type": "stream",
     "text": [
      "2000,2002,2004,2006,2008,2020,2022,2024,2026,2028,2040,2042,2044,2046,2048,2060,2062,2064,2066,2068,2080,2082,2084,2086,2088,2200,2202,2204,2206,2208,2220,2222,2224,2226,2228,2240,2242,2244,2246,2248,2260,2262,2264,2266,2268,2280,2282,2284,2286,2288,2400,2402,2404,2406,2408,2420,2422,2424,2426,2428,2440,2442,2444,2446,2448,2460,2462,2464,2466,2468,2480,2482,2484,2486,2488,2600,2602,2604,2606,2608,2620,2622,2624,2626,2628,2640,2642,2644,2646,2648,2660,2662,2664,2666,2668,2680,2682,2684,2686,2688,2800,2802,2804,2806,2808,2820,2822,2824,2826,2828,2840,2842,2844,2846,2848,2860,2862,2864,2866,2868,2880,2882,2884,2886,2888\n"
     ]
    }
   ],
   "source": [
    "values = []\n",
    "for i in range(1000, 3001):\n",
    "    s = str(i)\n",
    "    if ((int(s[0]) % 2 == 0) and (int(s[1]) % 2 == 0) and (int(s[2]) % 2 == 0) and (int(s[3]) % 2 == 0)):\n",
    "        values.append(s)\n",
    "\n",
    "print(\",\".join(values))\n"
   ]
  },
  {
   "cell_type": "code",
   "execution_count": 39,
   "metadata": {},
   "outputs": [
    {
     "name": "stdout",
     "output_type": "stream",
     "text": [
      "LETTERS 10\n",
      "DIGITS 3\n"
     ]
    }
   ],
   "source": [
    "s = input()\n",
    "d={\"DIGITS\":0, \"LETTERS\":0}\n",
    "for c in s:\n",
    "    if c.isdigit():\n",
    "        d[\"DIGITS\"]+=1\n",
    "    elif c.isalpha():\n",
    "        d[\"LETTERS\"]+=1\n",
    "    else:\n",
    "        pass\n",
    "print(\"LETTERS\", d[\"LETTERS\"])\n",
    "print(\"DIGITS\", d[\"DIGITS\"])"
   ]
  },
  {
   "cell_type": "code",
   "execution_count": 40,
   "metadata": {},
   "outputs": [
    {
     "name": "stdout",
     "output_type": "stream",
     "text": [
      "UPPER CASE 1\n",
      "LOWER CASE 9\n"
     ]
    }
   ],
   "source": [
    "s = input()\n",
    "d={\"UPPER CASE\":0, \"LOWER CASE\":0}\n",
    "for c in s:\n",
    "    if c.isupper():\n",
    "        d[\"UPPER CASE\"]+=1\n",
    "    elif c.islower():\n",
    "        d[\"LOWER CASE\"]+=1\n",
    "    else:\n",
    "        pass\n",
    "print(\"UPPER CASE\", d[\"UPPER CASE\"])\n",
    "print(\"LOWER CASE\", d[\"LOWER CASE\"])"
   ]
  },
  {
   "cell_type": "code",
   "execution_count": 41,
   "metadata": {},
   "outputs": [
    {
     "name": "stdout",
     "output_type": "stream",
     "text": [
      "11106\n"
     ]
    }
   ],
   "source": [
    "a = input()\n",
    "n1 = int( \"%s\" % a )\n",
    "n2 = int( \"%s%s\" % (a,a) )\n",
    "n3 = int( \"%s%s%s\" % (a,a,a) )\n",
    "n4 = int( \"%s%s%s%s\" % (a,a,a,a) )\n",
    "print(n1+n2+n3+n4)"
   ]
  },
  {
   "cell_type": "code",
   "execution_count": 42,
   "metadata": {},
   "outputs": [
    {
     "name": "stdout",
     "output_type": "stream",
     "text": [
      "1,3,5,7,9\n"
     ]
    }
   ],
   "source": [
    "values = input()\n",
    "numbers = [x for x in values.split(\",\") if int(x)%2!=0]\n",
    "print(\",\".join(numbers))\n"
   ]
  },
  {
   "cell_type": "code",
   "execution_count": 47,
   "metadata": {},
   "outputs": [
    {
     "name": "stdout",
     "output_type": "stream",
     "text": [
      "100\n"
     ]
    }
   ],
   "source": [
    "netAmount = 0\n",
    "while True:\n",
    "    s = input()\n",
    "    if not s:\n",
    "        break\n",
    "    values = s.split(\" \")\n",
    "    operation = values[0]\n",
    "    amount = int(values[1])\n",
    "    if operation==\"D\":\n",
    "        netAmount+=amount\n",
    "    elif operation==\"W\":\n",
    "        netAmount-=amount\n",
    "    else:\n",
    "        pass\n",
    "print(netAmount)"
   ]
  },
  {
   "cell_type": "code",
   "execution_count": 48,
   "metadata": {},
   "outputs": [
    {
     "name": "stdout",
     "output_type": "stream",
     "text": [
      "ABd1234@1\n"
     ]
    }
   ],
   "source": [
    "import re\n",
    "value = []\n",
    "items=[x for x in input().split(',')]\n",
    "for p in items:\n",
    "    if len(p)<6 or len(p)>12:\n",
    "        continue\n",
    "    else:\n",
    "        pass\n",
    "    if not re.search(\"[a-z]\",p):\n",
    "        continue\n",
    "    elif not re.search(\"[0-9]\",p):\n",
    "        continue\n",
    "    elif not re.search(\"[A-Z]\",p):\n",
    "        continue\n",
    "    elif not re.search(\"[$#@]\",p):\n",
    "        continue\n",
    "    elif re.search(\"\\s\",p):\n",
    "        continue\n",
    "    else:\n",
    "        pass\n",
    "    value.append(p)\n",
    "print(\",\".join(value))"
   ]
  },
  {
   "cell_type": "code",
   "execution_count": 50,
   "metadata": {},
   "outputs": [
    {
     "name": "stdout",
     "output_type": "stream",
     "text": [
      "[('Tom', '19', '80 John', '20', '90 Jony', '17', '91 Jony', '17', '93')]\n"
     ]
    }
   ],
   "source": [
    "from operator import itemgetter, attrgetter\n",
    "l = []\n",
    "while True:\n",
    "    s = input()\n",
    "    if not s:\n",
    "        break\n",
    "    l.append(tuple(s.split(\",\")))\n",
    "\n",
    "print (sorted(l, key=itemgetter(0,1,2)))"
   ]
  },
  {
   "cell_type": "code",
   "execution_count": 55,
   "metadata": {},
   "outputs": [
    {
     "name": "stdout",
     "output_type": "stream",
     "text": [
      "0\n",
      "7\n",
      "14\n",
      "21\n",
      "28\n",
      "35\n",
      "42\n",
      "49\n",
      "56\n",
      "63\n",
      "70\n",
      "77\n",
      "84\n",
      "91\n",
      "98\n"
     ]
    }
   ],
   "source": [
    "def putNumbers(n):\n",
    "    i = 0\n",
    "    while i<n:\n",
    "        j=i\n",
    "        i=i+1\n",
    "        if j%7==0:\n",
    "            yield j\n",
    "\n",
    "for i in putNumbers(100):\n",
    "    print(i)"
   ]
  }
 ],
 "metadata": {
  "kernelspec": {
   "display_name": "Python 3",
   "language": "python",
   "name": "python3"
  },
  "language_info": {
   "codemirror_mode": {
    "name": "ipython",
    "version": 3
   },
   "file_extension": ".py",
   "mimetype": "text/x-python",
   "name": "python",
   "nbconvert_exporter": "python",
   "pygments_lexer": "ipython3",
   "version": "3.10.11"
  }
 },
 "nbformat": 4,
 "nbformat_minor": 2
}
